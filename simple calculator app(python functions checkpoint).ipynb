{
 "cells": [
  {
   "cell_type": "code",
   "execution_count": null,
   "id": "06f3a68a-f91e-465e-9f55-620a804f092f",
   "metadata": {},
   "outputs": [],
   "source": [
    "#creating a simple calculator app that can perform basic arithmetic operations."
   ]
  },
  {
   "cell_type": "code",
   "execution_count": null,
   "id": "5cfe8caf-91ad-4c4b-8dae-f9c18f95fb61",
   "metadata": {},
   "outputs": [
    {
     "name": "stdin",
     "output_type": "stream",
     "text": [
      "Enter the first number:  5\n",
      "Enter the second number:  78\n",
      "Enter the operator (+, -, *, /):  *\n"
     ]
    },
    {
     "name": "stdout",
     "output_type": "stream",
     "text": [
      "The result is: 390.0\n"
     ]
    },
    {
     "name": "stdin",
     "output_type": "stream",
     "text": [
      "Do you want to perform another calculation? (yes/no):  yes\n"
     ]
    }
   ],
   "source": [
    "def calculator(num1, num2):\n",
    "    while True:\n",
    "        # Prompt the user to enter an operator\n",
    "        operator = input(\"Enter the operator (+, -, *, /): \")\n",
    "\n",
    "        # Perform the corresponding operation\n",
    "        if operator == '+':\n",
    "            return num1 + num2\n",
    "        elif operator == '-':\n",
    "            return num1 - num2\n",
    "        elif operator == '*':\n",
    "            return num1 * num2\n",
    "        elif operator == '/':\n",
    "            if num2 == 0:\n",
    "                return \"Error! Division by zero.\"\n",
    "            else:\n",
    "                return num1 / num2\n",
    "        else:\n",
    "            print(\"Invalid operator! Please enter one of the following: +, -, *, /\")\n",
    "\n",
    "def main():\n",
    "    while True:\n",
    "        try:\n",
    "            # Input numbers from the user\n",
    "            num1 = float(input(\"Enter the first number: \"))\n",
    "            num2 = float(input(\"Enter the second number: \"))\n",
    "\n",
    "            # Call the calculator function and print the result\n",
    "            result = calculator(num1, num2)\n",
    "            print(\"The result is:\", result)\n",
    "\n",
    "            # Ask if the user wants to perform another calculation\n",
    "            continue_calculation = input(\"Do you want to perform another calculation? (yes/no): \")\n",
    "            if continue_calculation.lower() != 'yes':\n",
    "                break\n",
    "        except ValueError:\n",
    "            print(\"Invalid input! Please enter numeric values for the numbers.\")\n",
    "\n",
    "if __name__ == \"__main__\":\n",
    "    main()\n"
   ]
  },
  {
   "cell_type": "code",
   "execution_count": null,
   "id": "df29f074-4da3-49d9-ae04-4ed1b2c58d67",
   "metadata": {},
   "outputs": [],
   "source": []
  }
 ],
 "metadata": {
  "kernelspec": {
   "display_name": "Python 3 (ipykernel)",
   "language": "python",
   "name": "python3"
  },
  "language_info": {
   "codemirror_mode": {
    "name": "ipython",
    "version": 3
   },
   "file_extension": ".py",
   "mimetype": "text/x-python",
   "name": "python",
   "nbconvert_exporter": "python",
   "pygments_lexer": "ipython3",
   "version": "3.11.7"
  }
 },
 "nbformat": 4,
 "nbformat_minor": 5
}
